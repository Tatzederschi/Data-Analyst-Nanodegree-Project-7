{
 "cells": [
  {
   "cell_type": "code",
   "execution_count": 1,
   "metadata": {},
   "outputs": [],
   "source": [
    "import pandas as pd\n",
    "import matplotlib.pyplot as plt\n",
    "import seaborn as sb\n",
    "\n",
    "%matplotlib inline"
   ]
  },
  {
   "cell_type": "code",
   "execution_count": 2,
   "metadata": {},
   "outputs": [],
   "source": [
    "df = pd.read_csv('/home/timmax/Udacity/201904-fordgobike-tripdata.csv')"
   ]
  },
  {
   "cell_type": "code",
   "execution_count": 3,
   "metadata": {},
   "outputs": [
    {
     "name": "stdout",
     "output_type": "stream",
     "text": [
      "<class 'pandas.core.frame.DataFrame'>\n",
      "RangeIndex: 239111 entries, 0 to 239110\n",
      "Data columns (total 16 columns):\n",
      "duration_sec               239111 non-null int64\n",
      "start_time                 239111 non-null object\n",
      "end_time                   239111 non-null object\n",
      "start_station_id           239047 non-null float64\n",
      "start_station_name         239047 non-null object\n",
      "start_station_latitude     239111 non-null float64\n",
      "start_station_longitude    239111 non-null float64\n",
      "end_station_id             239047 non-null float64\n",
      "end_station_name           239047 non-null object\n",
      "end_station_latitude       239111 non-null float64\n",
      "end_station_longitude      239111 non-null float64\n",
      "bike_id                    239111 non-null int64\n",
      "user_type                  239111 non-null object\n",
      "member_birth_year          227912 non-null float64\n",
      "member_gender              227912 non-null object\n",
      "bike_share_for_all_trip    239111 non-null object\n",
      "dtypes: float64(7), int64(2), object(7)\n",
      "memory usage: 22.8+ MB\n"
     ]
    }
   ],
   "source": [
    "df.info()"
   ]
  },
  {
   "cell_type": "code",
   "execution_count": 12,
   "metadata": {},
   "outputs": [
    {
     "data": {
      "text/plain": [
       "Subscriber    203197\n",
       "Customer       35914\n",
       "Name: user_type, dtype: int64"
      ]
     },
     "execution_count": 12,
     "metadata": {},
     "output_type": "execute_result"
    }
   ],
   "source": [
    "df.user_type.value_counts(dropna = False)"
   ]
  },
  {
   "cell_type": "code",
   "execution_count": 4,
   "metadata": {},
   "outputs": [
    {
     "data": {
      "text/plain": [
       "Male      168140\n",
       "Female     55498\n",
       "NaN        11199\n",
       "Other       4274\n",
       "Name: member_gender, dtype: int64"
      ]
     },
     "execution_count": 4,
     "metadata": {},
     "output_type": "execute_result"
    }
   ],
   "source": [
    "df.member_gender.value_counts(dropna = False)"
   ]
  },
  {
   "cell_type": "code",
   "execution_count": 5,
   "metadata": {},
   "outputs": [
    {
     "data": {
      "text/plain": [
       "No     218470\n",
       "Yes     20641\n",
       "Name: bike_share_for_all_trip, dtype: int64"
      ]
     },
     "execution_count": 5,
     "metadata": {},
     "output_type": "execute_result"
    }
   ],
   "source": [
    "df.bike_share_for_all_trip.value_counts(dropna = False)"
   ]
  },
  {
   "cell_type": "code",
   "execution_count": 6,
   "metadata": {},
   "outputs": [
    {
     "data": {
      "image/png": "[encoded data removed]",
      "text/plain": [
       "<Figure size 432x288 with 1 Axes>"
      ]
     },
     "metadata": {
      "needs_background": "light"
     },
     "output_type": "display_data"
    }
   ],
   "source": [
    "#df['duration_sec'].value_counts()\n",
    "\n",
    "plt.hist(data = df, x ='duration_sec', range = (0, 4000), bins =50);"
   ]
  },
  {
   "cell_type": "code",
   "execution_count": 14,
   "metadata": {},
   "outputs": [
    {
     "data": {
      "text/plain": [
       "(0, 2000)"
      ]
     },
     "execution_count": 14,
     "metadata": {},
     "output_type": "execute_result"
    },
    {
     "data": {
      "image/png": "[encoded data removed]",
      "text/plain": [
       "<Figure size 432x288 with 1 Axes>"
      ]
     },
     "metadata": {
      "needs_background": "light"
     },
     "output_type": "display_data"
    }
   ],
   "source": [
    "\n",
    "base_color = sb.color_palette()[0]\n",
    "sb.boxplot(data=df, x = 'user_type', y = 'duration_sec', color=base_color)\n",
    "plt.ylim(0, 2000)\n",
    "#plt.yscale('log', basey = 2)\n",
    "#plt.xticks(rotation = 15);"
   ]
  },
  {
   "cell_type": "code",
   "execution_count": 8,
   "metadata": {},
   "outputs": [
    {
     "data": {
      "text/plain": [
       "(18, 75)"
      ]
     },
     "execution_count": 8,
     "metadata": {},
     "output_type": "execute_result"
    },
    {
     "data": {
      "image/png": "[encoded data removed]",
      "text/plain": [
       "<Figure size 432x288 with 1 Axes>"
      ]
     },
     "metadata": {
      "needs_background": "light"
     },
     "output_type": "display_data"
    }
   ],
   "source": [
    "df['member_age'] = 2019 - df.member_birth_year\n",
    "base_color = sb.color_palette()[0]\n",
    "sb.boxplot(data=df, x = 'member_gender', y = 'member_age', color=base_color)\n",
    "plt.ylim(18, 75)"
   ]
  },
  {
   "cell_type": "code",
   "execution_count": 9,
   "metadata": {},
   "outputs": [
    {
     "data": {
      "text/html": [
       "<div>\n",
       "<style scoped>\n",
       "    .dataframe tbody tr th:only-of-type {\n",
       "        vertical-align: middle;\n",
       "    }\n",
       "\n",
       "    .dataframe tbody tr th {\n",
       "        vertical-align: top;\n",
       "    }\n",
       "\n",
       "    .dataframe thead th {\n",
       "        text-align: right;\n",
       "    }\n",
       "</style>\n",
       "<table border=\"1\" class=\"dataframe\">\n",
       "  <thead>\n",
       "    <tr style=\"text-align: right;\">\n",
       "      <th></th>\n",
       "      <th>duration_sec</th>\n",
       "      <th>start_station_id</th>\n",
       "      <th>start_station_latitude</th>\n",
       "      <th>start_station_longitude</th>\n",
       "      <th>end_station_id</th>\n",
       "      <th>end_station_latitude</th>\n",
       "      <th>end_station_longitude</th>\n",
       "      <th>bike_id</th>\n",
       "      <th>member_birth_year</th>\n",
       "      <th>member_age</th>\n",
       "    </tr>\n",
       "  </thead>\n",
       "  <tbody>\n",
       "    <tr>\n",
       "      <th>count</th>\n",
       "      <td>239111.000000</td>\n",
       "      <td>239047.000000</td>\n",
       "      <td>239111.000000</td>\n",
       "      <td>239111.000000</td>\n",
       "      <td>239047.000000</td>\n",
       "      <td>239111.000000</td>\n",
       "      <td>239111.000000</td>\n",
       "      <td>239111.000000</td>\n",
       "      <td>227912.000000</td>\n",
       "      <td>227912.000000</td>\n",
       "    </tr>\n",
       "    <tr>\n",
       "      <th>mean</th>\n",
       "      <td>802.671199</td>\n",
       "      <td>141.836538</td>\n",
       "      <td>37.769536</td>\n",
       "      <td>-122.352503</td>\n",
       "      <td>140.838099</td>\n",
       "      <td>37.766996</td>\n",
       "      <td>-122.343420</td>\n",
       "      <td>3666.956493</td>\n",
       "      <td>1984.863250</td>\n",
       "      <td>34.136750</td>\n",
       "    </tr>\n",
       "    <tr>\n",
       "      <th>std</th>\n",
       "      <td>1990.006091</td>\n",
       "      <td>116.289776</td>\n",
       "      <td>0.127698</td>\n",
       "      <td>0.277088</td>\n",
       "      <td>116.386168</td>\n",
       "      <td>0.343083</td>\n",
       "      <td>1.068144</td>\n",
       "      <td>2180.717333</td>\n",
       "      <td>9.953144</td>\n",
       "      <td>9.953144</td>\n",
       "    </tr>\n",
       "    <tr>\n",
       "      <th>min</th>\n",
       "      <td>61.000000</td>\n",
       "      <td>3.000000</td>\n",
       "      <td>0.000000</td>\n",
       "      <td>-122.453704</td>\n",
       "      <td>3.000000</td>\n",
       "      <td>0.000000</td>\n",
       "      <td>-122.453704</td>\n",
       "      <td>11.000000</td>\n",
       "      <td>1878.000000</td>\n",
       "      <td>18.000000</td>\n",
       "    </tr>\n",
       "    <tr>\n",
       "      <th>25%</th>\n",
       "      <td>349.000000</td>\n",
       "      <td>47.000000</td>\n",
       "      <td>37.770083</td>\n",
       "      <td>-122.413004</td>\n",
       "      <td>44.000000</td>\n",
       "      <td>37.770407</td>\n",
       "      <td>-122.411738</td>\n",
       "      <td>1720.000000</td>\n",
       "      <td>1980.000000</td>\n",
       "      <td>27.000000</td>\n",
       "    </tr>\n",
       "    <tr>\n",
       "      <th>50%</th>\n",
       "      <td>558.000000</td>\n",
       "      <td>104.000000</td>\n",
       "      <td>37.780760</td>\n",
       "      <td>-122.398285</td>\n",
       "      <td>102.000000</td>\n",
       "      <td>37.780955</td>\n",
       "      <td>-122.397437</td>\n",
       "      <td>3471.000000</td>\n",
       "      <td>1987.000000</td>\n",
       "      <td>32.000000</td>\n",
       "    </tr>\n",
       "    <tr>\n",
       "      <th>75%</th>\n",
       "      <td>876.000000</td>\n",
       "      <td>240.000000</td>\n",
       "      <td>37.797280</td>\n",
       "      <td>-122.291209</td>\n",
       "      <td>239.000000</td>\n",
       "      <td>37.797320</td>\n",
       "      <td>-122.291376</td>\n",
       "      <td>5749.000000</td>\n",
       "      <td>1992.000000</td>\n",
       "      <td>39.000000</td>\n",
       "    </tr>\n",
       "    <tr>\n",
       "      <th>max</th>\n",
       "      <td>86114.000000</td>\n",
       "      <td>420.000000</td>\n",
       "      <td>37.880222</td>\n",
       "      <td>0.000000</td>\n",
       "      <td>420.000000</td>\n",
       "      <td>37.880222</td>\n",
       "      <td>0.000000</td>\n",
       "      <td>7108.000000</td>\n",
       "      <td>2001.000000</td>\n",
       "      <td>141.000000</td>\n",
       "    </tr>\n",
       "  </tbody>\n",
       "</table>\n",
       "</div>"
      ],
      "text/plain": [
       "        duration_sec  start_station_id  start_station_latitude  \\\n",
       "count  239111.000000     239047.000000           239111.000000   \n",
       "mean      802.671199        141.836538               37.769536   \n",
       "std      1990.006091        116.289776                0.127698   \n",
       "min        61.000000          3.000000                0.000000   \n",
       "25%       349.000000         47.000000               37.770083   \n",
       "50%       558.000000        104.000000               37.780760   \n",
       "75%       876.000000        240.000000               37.797280   \n",
       "max     86114.000000        420.000000               37.880222   \n",
       "\n",
       "       start_station_longitude  end_station_id  end_station_latitude  \\\n",
       "count            239111.000000   239047.000000         239111.000000   \n",
       "mean               -122.352503      140.838099             37.766996   \n",
       "std                   0.277088      116.386168              0.343083   \n",
       "min                -122.453704        3.000000              0.000000   \n",
       "25%                -122.413004       44.000000             37.770407   \n",
       "50%                -122.398285      102.000000             37.780955   \n",
       "75%                -122.291209      239.000000             37.797320   \n",
       "max                   0.000000      420.000000             37.880222   \n",
       "\n",
       "       end_station_longitude        bike_id  member_birth_year     member_age  \n",
       "count          239111.000000  239111.000000      227912.000000  227912.000000  \n",
       "mean             -122.343420    3666.956493        1984.863250      34.136750  \n",
       "std                 1.068144    2180.717333           9.953144       9.953144  \n",
       "min              -122.453704      11.000000        1878.000000      18.000000  \n",
       "25%              -122.411738    1720.000000        1980.000000      27.000000  \n",
       "50%              -122.397437    3471.000000        1987.000000      32.000000  \n",
       "75%              -122.291376    5749.000000        1992.000000      39.000000  \n",
       "max                 0.000000    7108.000000        2001.000000     141.000000  "
      ]
     },
     "execution_count": 9,
     "metadata": {},
     "output_type": "execute_result"
    }
   ],
   "source": [
    "df.describe()"
   ]
  },
  {
   "cell_type": "code",
   "execution_count": 100,
   "metadata": {},
   "outputs": [
    {
     "data": {
      "text/plain": [
       "San Francisco Caltrain Station 2  (Townsend St at 4th St)          0.020356\n",
       "Market St at 10th St                                               0.019281\n",
       "San Francisco Ferry Building (Harry Bridges Plaza)                 0.017863\n",
       "Berry St at 4th St                                                 0.016708\n",
       "Montgomery St BART Station (Market St at 2nd St)                   0.014851\n",
       "Powell St BART Station (Market St at 4th St)                       0.014315\n",
       "Powell St BART Station (Market St at 5th St)                       0.014181\n",
       "San Francisco Caltrain (Townsend St at 4th St)                     0.013897\n",
       "Steuart St at Market St                                            0.013274\n",
       "The Embarcadero at Sansome St                                      0.012303\n",
       "Howard St at Beale St                                              0.011546\n",
       "2nd St at Townsend St                                              0.010969\n",
       "Civic Center/UN Plaza BART Station (Market St at McAllister St)    0.009864\n",
       "3rd St at Townsend St                                              0.009634\n",
       "Embarcadero BART Station (Beale St at Market St)                   0.008915\n",
       "Bancroft Way at College Ave                                        0.008860\n",
       "4th St at Mission Bay Blvd S                                       0.008722\n",
       "Beale St at Harrison St                                            0.008714\n",
       "Townsend St at 7th St                                              0.007923\n",
       "The Embarcadero at Steuart St                                      0.007906\n",
       "Bancroft Way at Telegraph Ave                                      0.007743\n",
       "Howard St at 8th St                                                0.007517\n",
       "4th St at 16th St                                                  0.007300\n",
       "5th St at Folsom                                                   0.007170\n",
       "Esprit Park                                                        0.007020\n",
       "Post St at Kearny St                                               0.006856\n",
       "Downtown Berkeley BART                                             0.006555\n",
       "Townsend St at 5th St                                              0.006472\n",
       "8th St at Brannan St                                               0.006342\n",
       "Rhode Island St at 17th St                                         0.006338\n",
       "                                                                     ...   \n",
       "Backesto Park (Jackson St at 13th St)                              0.000176\n",
       "Williams Ave at Apollo St                                          0.000172\n",
       "26th Ave at International Blvd                                     0.000155\n",
       "Williams Ave at 3rd St                                             0.000155\n",
       "Foothill Blvd at Harrington Ave                                    0.000142\n",
       "Illinois St at Cesar Chavez St                                     0.000134\n",
       "10th St at Mission St                                              0.000121\n",
       "Oak St at 1st St                                                   0.000121\n",
       "Bird Ave at Coe Ave                                                0.000113\n",
       "23rd Ave at Foothill Blvd                                          0.000109\n",
       "Kerley Dr at Rosemary St                                           0.000109\n",
       "Palm St at Willow St                                               0.000105\n",
       "Empire St at 7th St                                                0.000100\n",
       "1st St at Younger Ave                                              0.000100\n",
       "Asbury St at The Alameda                                           0.000092\n",
       "10th St at Empire St                                               0.000092\n",
       "Skyport Dr at Technology Dr                                        0.000084\n",
       "Gish Rd at 1st St                                                  0.000084\n",
       "Parkmoor Ave at Race St                                            0.000084\n",
       "Foothill Blvd at 42nd Ave                                          0.000075\n",
       "Willow St at Vine St                                               0.000071\n",
       "21st Ave at International Blvd                                     0.000067\n",
       "San Pedro St at Hedding St                                         0.000067\n",
       "Park Ave at Race St                                                0.000067\n",
       "Sonora Ave at 1st St                                               0.000059\n",
       "Auzerais Ave at Los Gatos Creek Trail                              0.000042\n",
       "Farnam St at Fruitvale Ave                                         0.000038\n",
       "17th St at Santa Clara St                                          0.000033\n",
       "Delmas Ave at Virginia St                                          0.000021\n",
       "SF Test Station                                                    0.000004\n",
       "Name: start_station_name, Length: 357, dtype: float64"
      ]
     },
     "execution_count": 100,
     "metadata": {},
     "output_type": "execute_result"
    }
   ],
   "source": [
    "df.start_station_name.value_counts(normalize = True)"
   ]
  },
  {
   "cell_type": "code",
   "execution_count": null,
   "metadata": {},
   "outputs": [],
   "source": []
  },
  {
   "cell_type": "code",
   "execution_count": 98,
   "metadata": {},
   "outputs": [
    {
     "data": {
      "text/plain": [
       "<matplotlib.axes._subplots.AxesSubplot at 0x9963c98c>"
      ]
     },
     "execution_count": 98,
     "metadata": {},
     "output_type": "execute_result"
    },
    {
     "data": {
      "image/png": "[encoded data removed]",
      "text/plain": [
       "<Figure size 720x576 with 1 Axes>"
      ]
     },
     "metadata": {
      "needs_background": "light"
     },
     "output_type": "display_data"
    }
   ],
   "source": [
    "plt.figure(figsize=(10, 8))\n",
    "sb.countplot(data = df, x = 'start_station_name', hue = 'user_type', orient = \"h\")"
   ]
  },
  {
   "cell_type": "code",
   "execution_count": 23,
   "metadata": {},
   "outputs": [
    {
     "data": {
      "text/plain": [
       "San Francisco Caltrain Station 2  (Townsend St at 4th St)    0.021409\n",
       "Market St at 10th St                                         0.020257\n",
       "Berry St at 4th St                                           0.016315\n",
       "San Francisco Ferry Building (Harry Bridges Plaza)           0.015331\n",
       "Montgomery St BART Station (Market St at 2nd St)             0.015252\n",
       "San Francisco Caltrain (Townsend St at 4th St)               0.014711\n",
       "Powell St BART Station (Market St at 5th St)                 0.013992\n",
       "Steuart St at Market St                                      0.013717\n",
       "Powell St BART Station (Market St at 4th St)                 0.013653\n",
       "Howard St at Beale St                                        0.012309\n",
       "Name: start_station_name, dtype: float64"
      ]
     },
     "execution_count": 23,
     "metadata": {},
     "output_type": "execute_result"
    }
   ],
   "source": [
    "df[df['user_type']=='Subscriber'].start_station_name.value_counts(normalize=True).head(10)"
   ]
  },
  {
   "cell_type": "code",
   "execution_count": 24,
   "metadata": {},
   "outputs": [
    {
     "data": {
      "text/plain": [
       "San Francisco Ferry Building (Harry Bridges Plaza)           0.032207\n",
       "The Embarcadero at Sansome St                                0.024622\n",
       "Berry St at 4th St                                           0.018934\n",
       "Powell St BART Station (Market St at 4th St)                 0.018069\n",
       "Powell St BART Station (Market St at 5th St)                 0.015253\n",
       "Buchanan St at North Point St                                0.014918\n",
       "Fell St at Stanyan St                                        0.014667\n",
       "San Francisco Caltrain Station 2  (Townsend St at 4th St)    0.014388\n",
       "Market St at 10th St                                         0.013747\n",
       "Lombard St at Columbus Ave                                   0.013385\n",
       "Name: start_station_name, dtype: float64"
      ]
     },
     "execution_count": 24,
     "metadata": {},
     "output_type": "execute_result"
    }
   ],
   "source": [
    "df[df['user_type']=='Customer'].start_station_name.value_counts(normalize=True).head(10)"
   ]
  },
  {
   "cell_type": "code",
   "execution_count": 74,
   "metadata": {},
   "outputs": [],
   "source": [
    "df_start_geo = df.groupby(['start_station_latitude', 'start_station_longitude'])\n",
    "df_start_geo = pd.DataFrame(df.groupby(['start_station_latitude', 'start_station_longitude']).count()['duration_sec'])"
   ]
  },
  {
   "cell_type": "code",
   "execution_count": 84,
   "metadata": {},
   "outputs": [],
   "source": [
    "df_start_geo = df_start_geo.reset_index()"
   ]
  },
  {
   "cell_type": "code",
   "execution_count": null,
   "metadata": {},
   "outputs": [],
   "source": [
    "plt.figure(figsize=(10,8))\n",
    "plt.scatter(data = df_start_geo, y = 'start_station_latitude', x = 'start_station_longitude', alpha = 0.005)\n",
    "#plt.ylim(37.7, 37.9)\n",
    "#plt.xlim(-122.46, -122.2)\n",
    "plt.ylim(37.72, 37.82)\n",
    "plt.xlim(-122.46, -122.36)\n",
    "#plt.ylim(37.77, 37.89)\n",
    "#plt.xlim(-122.32, -122.20)\n",
    "plt.colorbar(label = )"
   ]
  },
  {
   "cell_type": "code",
   "execution_count": 92,
   "metadata": {
    "scrolled": false
   },
   "outputs": [
    {
     "data": {
      "text/plain": [
       "<matplotlib.colorbar.Colorbar at 0x9d11d14c>"
      ]
     },
     "execution_count": 92,
     "metadata": {},
     "output_type": "execute_result"
    },
    {
     "data": {
      "image/png": "[encoded data removed]",
      "text/plain": [
       "<Figure size 576x432 with 2 Axes>"
      ]
     },
     "metadata": {
      "needs_background": "light"
     },
     "output_type": "display_data"
    }
   ],
   "source": [
    "plt.figure(figsize=(8,6))\n",
    "plt.scatter(data = df_start_geo, y = 'start_station_latitude', x = 'start_station_longitude', c = 'duration_sec')\n",
    "#plt.ylim(37.7, 37.9)\n",
    "#plt.xlim(-122.46, -122.2)\n",
    "plt.ylim(37.72, 37.82)\n",
    "plt.xlim(-122.46, -122.36)\n",
    "#plt.ylim(37.77, 37.89)\n",
    "#plt.xlim(-122.32, -122.20)\n",
    "plt.colorbar(label = 'duration_sec')"
   ]
  },
  {
   "cell_type": "code",
   "execution_count": 27,
   "metadata": {},
   "outputs": [
    {
     "data": {
      "text/html": [
       "<div>\n",
       "<style scoped>\n",
       "    .dataframe tbody tr th:only-of-type {\n",
       "        vertical-align: middle;\n",
       "    }\n",
       "\n",
       "    .dataframe tbody tr th {\n",
       "        vertical-align: top;\n",
       "    }\n",
       "\n",
       "    .dataframe thead th {\n",
       "        text-align: right;\n",
       "    }\n",
       "</style>\n",
       "<table border=\"1\" class=\"dataframe\">\n",
       "  <thead>\n",
       "    <tr style=\"text-align: right;\">\n",
       "      <th></th>\n",
       "      <th>duration_sec</th>\n",
       "      <th>start_station_id</th>\n",
       "      <th>start_station_latitude</th>\n",
       "      <th>start_station_longitude</th>\n",
       "      <th>end_station_id</th>\n",
       "      <th>end_station_latitude</th>\n",
       "      <th>end_station_longitude</th>\n",
       "      <th>bike_id</th>\n",
       "      <th>member_birth_year</th>\n",
       "      <th>member_age</th>\n",
       "    </tr>\n",
       "  </thead>\n",
       "  <tbody>\n",
       "    <tr>\n",
       "      <th>count</th>\n",
       "      <td>239111.000000</td>\n",
       "      <td>239047.000000</td>\n",
       "      <td>239111.000000</td>\n",
       "      <td>239111.000000</td>\n",
       "      <td>239047.000000</td>\n",
       "      <td>239111.000000</td>\n",
       "      <td>239111.000000</td>\n",
       "      <td>239111.000000</td>\n",
       "      <td>227912.000000</td>\n",
       "      <td>227912.000000</td>\n",
       "    </tr>\n",
       "    <tr>\n",
       "      <th>mean</th>\n",
       "      <td>802.671199</td>\n",
       "      <td>141.836538</td>\n",
       "      <td>37.769536</td>\n",
       "      <td>-122.352503</td>\n",
       "      <td>140.838099</td>\n",
       "      <td>37.766996</td>\n",
       "      <td>-122.343420</td>\n",
       "      <td>3666.956493</td>\n",
       "      <td>1984.863250</td>\n",
       "      <td>34.136750</td>\n",
       "    </tr>\n",
       "    <tr>\n",
       "      <th>std</th>\n",
       "      <td>1990.006091</td>\n",
       "      <td>116.289776</td>\n",
       "      <td>0.127698</td>\n",
       "      <td>0.277088</td>\n",
       "      <td>116.386168</td>\n",
       "      <td>0.343083</td>\n",
       "      <td>1.068144</td>\n",
       "      <td>2180.717333</td>\n",
       "      <td>9.953144</td>\n",
       "      <td>9.953144</td>\n",
       "    </tr>\n",
       "    <tr>\n",
       "      <th>min</th>\n",
       "      <td>61.000000</td>\n",
       "      <td>3.000000</td>\n",
       "      <td>0.000000</td>\n",
       "      <td>-122.453704</td>\n",
       "      <td>3.000000</td>\n",
       "      <td>0.000000</td>\n",
       "      <td>-122.453704</td>\n",
       "      <td>11.000000</td>\n",
       "      <td>1878.000000</td>\n",
       "      <td>18.000000</td>\n",
       "    </tr>\n",
       "    <tr>\n",
       "      <th>25%</th>\n",
       "      <td>349.000000</td>\n",
       "      <td>47.000000</td>\n",
       "      <td>37.770083</td>\n",
       "      <td>-122.413004</td>\n",
       "      <td>44.000000</td>\n",
       "      <td>37.770407</td>\n",
       "      <td>-122.411738</td>\n",
       "      <td>1720.000000</td>\n",
       "      <td>1980.000000</td>\n",
       "      <td>27.000000</td>\n",
       "    </tr>\n",
       "    <tr>\n",
       "      <th>50%</th>\n",
       "      <td>558.000000</td>\n",
       "      <td>104.000000</td>\n",
       "      <td>37.780760</td>\n",
       "      <td>-122.398285</td>\n",
       "      <td>102.000000</td>\n",
       "      <td>37.780955</td>\n",
       "      <td>-122.397437</td>\n",
       "      <td>3471.000000</td>\n",
       "      <td>1987.000000</td>\n",
       "      <td>32.000000</td>\n",
       "    </tr>\n",
       "    <tr>\n",
       "      <th>75%</th>\n",
       "      <td>876.000000</td>\n",
       "      <td>240.000000</td>\n",
       "      <td>37.797280</td>\n",
       "      <td>-122.291209</td>\n",
       "      <td>239.000000</td>\n",
       "      <td>37.797320</td>\n",
       "      <td>-122.291376</td>\n",
       "      <td>5749.000000</td>\n",
       "      <td>1992.000000</td>\n",
       "      <td>39.000000</td>\n",
       "    </tr>\n",
       "    <tr>\n",
       "      <th>max</th>\n",
       "      <td>86114.000000</td>\n",
       "      <td>420.000000</td>\n",
       "      <td>37.880222</td>\n",
       "      <td>0.000000</td>\n",
       "      <td>420.000000</td>\n",
       "      <td>37.880222</td>\n",
       "      <td>0.000000</td>\n",
       "      <td>7108.000000</td>\n",
       "      <td>2001.000000</td>\n",
       "      <td>141.000000</td>\n",
       "    </tr>\n",
       "  </tbody>\n",
       "</table>\n",
       "</div>"
      ],
      "text/plain": [
       "        duration_sec  start_station_id  start_station_latitude  \\\n",
       "count  239111.000000     239047.000000           239111.000000   \n",
       "mean      802.671199        141.836538               37.769536   \n",
       "std      1990.006091        116.289776                0.127698   \n",
       "min        61.000000          3.000000                0.000000   \n",
       "25%       349.000000         47.000000               37.770083   \n",
       "50%       558.000000        104.000000               37.780760   \n",
       "75%       876.000000        240.000000               37.797280   \n",
       "max     86114.000000        420.000000               37.880222   \n",
       "\n",
       "       start_station_longitude  end_station_id  end_station_latitude  \\\n",
       "count            239111.000000   239047.000000         239111.000000   \n",
       "mean               -122.352503      140.838099             37.766996   \n",
       "std                   0.277088      116.386168              0.343083   \n",
       "min                -122.453704        3.000000              0.000000   \n",
       "25%                -122.413004       44.000000             37.770407   \n",
       "50%                -122.398285      102.000000             37.780955   \n",
       "75%                -122.291209      239.000000             37.797320   \n",
       "max                   0.000000      420.000000             37.880222   \n",
       "\n",
       "       end_station_longitude        bike_id  member_birth_year     member_age  \n",
       "count          239111.000000  239111.000000      227912.000000  227912.000000  \n",
       "mean             -122.343420    3666.956493        1984.863250      34.136750  \n",
       "std                 1.068144    2180.717333           9.953144       9.953144  \n",
       "min              -122.453704      11.000000        1878.000000      18.000000  \n",
       "25%              -122.411738    1720.000000        1980.000000      27.000000  \n",
       "50%              -122.397437    3471.000000        1987.000000      32.000000  \n",
       "75%              -122.291376    5749.000000        1992.000000      39.000000  \n",
       "max                 0.000000    7108.000000        2001.000000     141.000000  "
      ]
     },
     "execution_count": 27,
     "metadata": {},
     "output_type": "execute_result"
    }
   ],
   "source": [
    "df.describe()"
   ]
  },
  {
   "cell_type": "code",
   "execution_count": null,
   "metadata": {},
   "outputs": [],
   "source": []
  },
  {
   "cell_type": "code",
   "execution_count": null,
   "metadata": {},
   "outputs": [],
   "source": []
  }
 ],
 "metadata": {
  "kernelspec": {
   "display_name": "Python 3",
   "language": "python",
   "name": "python3"
  },
  "language_info": {
   "codemirror_mode": {
    "name": "ipython",
    "version": 3
   },
   "file_extension": ".py",
   "mimetype": "text/x-python",
   "name": "python",
   "nbconvert_exporter": "python",
   "pygments_lexer": "ipython3",
   "version": "3.6.5"
  }
 },
 "nbformat": 4,
 "nbformat_minor": 2
}
