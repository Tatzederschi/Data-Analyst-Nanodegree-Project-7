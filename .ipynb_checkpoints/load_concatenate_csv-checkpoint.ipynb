{
 "cells": [
  {
   "cell_type": "code",
   "execution_count": 2,
   "metadata": {},
   "outputs": [],
   "source": [
    "import os\n",
    "import glob\n",
    "import pandas as pd\n",
    "os.chdir(\"Data\")\n",
    "#os.chdir(\"/home/timmax/Dokumente/Udacity/Projekt 7/Data\")"
   ]
  },
  {
   "cell_type": "code",
   "execution_count": 6,
   "metadata": {},
   "outputs": [],
   "source": [
    "extension = 'csv'\n",
    "all_filenames = [i for i in glob.glob('*.{}'.format(extension))]"
   ]
  },
  {
   "cell_type": "code",
   "execution_count": 8,
   "metadata": {},
   "outputs": [
    {
     "name": "stderr",
     "output_type": "stream",
     "text": [
      "C:\\Users\\Tatze-Teclast\\Anaconda3\\lib\\site-packages\\ipykernel_launcher.py:2: FutureWarning: Sorting because non-concatenation axis is not aligned. A future version\n",
      "of pandas will change to not sort by default.\n",
      "\n",
      "To accept the future behavior, pass 'sort=False'.\n",
      "\n",
      "To retain the current behavior and silence the warning, pass 'sort=True'.\n",
      "\n",
      "  \n"
     ]
    }
   ],
   "source": [
    "#combine all files in the list\n",
    "combined_csv = pd.concat([pd.read_csv(f) for f in all_filenames ])"
   ]
  },
  {
   "cell_type": "code",
   "execution_count": 43,
   "metadata": {},
   "outputs": [
    {
     "name": "stdout",
     "output_type": "stream",
     "text": [
      "<class 'pandas.core.frame.DataFrame'>\n",
      "Int64Index: 3254325 entries, 0 to 519699\n",
      "Data columns (total 16 columns):\n",
      "bike_id                    3254325 non-null int64\n",
      "bike_share_for_all_trip    3254325 non-null object\n",
      "duration_sec               3254325 non-null int64\n",
      "end_station_id             3254325 non-null int64\n",
      "end_station_latitude       3254325 non-null float64\n",
      "end_station_longitude      3254325 non-null float64\n",
      "end_station_name           3241824 non-null object\n",
      "end_time                   3254325 non-null object\n",
      "member_birth_year          3036159 non-null float64\n",
      "member_gender              3036592 non-null object\n",
      "start_station_id           3254325 non-null int64\n",
      "start_station_latitude     3254325 non-null float64\n",
      "start_station_longitude    3254325 non-null float64\n",
      "start_station_name         3241824 non-null object\n",
      "start_time                 3254325 non-null object\n",
      "user_type                  3254325 non-null object\n",
      "dtypes: float64(5), int64(4), object(7)\n",
      "memory usage: 422.1+ MB\n"
     ]
    }
   ],
   "source": [
    "combined_csv.info(null_counts=1)"
   ]
  },
  {
   "cell_type": "code",
   "execution_count": 34,
   "metadata": {},
   "outputs": [],
   "source": [
    "combined_csv['bike_share_for_all_trip'] = combined_csv['bike_share_for_all_trip'].apply(lambda x: x if x in ('Yes', 'No') else 'Unknown')"
   ]
  },
  {
   "cell_type": "code",
   "execution_count": 41,
   "metadata": {},
   "outputs": [],
   "source": [
    "combined_csv['start_station_id'] = combined_csv['start_station_id'].apply(lambda x: 0  if pd.isnull(x) else x)\n",
    "combined_csv['end_station_id'] = combined_csv['end_station_id'].apply(lambda x: 0  if pd.isnull(x) else x)"
   ]
  },
  {
   "cell_type": "code",
   "execution_count": 42,
   "metadata": {},
   "outputs": [],
   "source": [
    "combined_csv.start_station_id = combined_csv.start_station_id.astype(\"int64\")\n",
    "combined_csv.end_station_id = combined_csv.end_station_id.astype(\"int64\")"
   ]
  },
  {
   "cell_type": "code",
   "execution_count": 44,
   "metadata": {},
   "outputs": [],
   "source": [
    "#export to csv\n",
    "combined_csv.to_csv( \"../combined_csv.csv\", index=False, encoding='utf-8-sig')"
   ]
  },
  {
   "cell_type": "code",
   "execution_count": 45,
   "metadata": {},
   "outputs": [
    {
     "name": "stdout",
     "output_type": "stream",
     "text": [
      "3017.4700515270233\n"
     ]
    }
   ],
   "source": [
    "from geopy.distance import geodesic\n",
    "import time\n",
    "\n",
    "start = time.time()\n",
    "combined_csv['distance'] = combined_csv.apply(lambda x:\n",
    "        geodesic((x['start_station_latitude'], x['start_station_longitude'])\n",
    "        ,(x['end_station_latitude'], x['end_station_longitude'])), axis = 1)\n",
    "end = time.time()\n",
    "print(end - start)"
   ]
  },
  {
   "cell_type": "code",
   "execution_count": 46,
   "metadata": {},
   "outputs": [],
   "source": [
    "combined_csv.to_csv( \"../combined_csv_geo.csv\", index=False, encoding='utf-8-sig')"
   ]
  },
  {
   "cell_type": "code",
   "execution_count": null,
   "metadata": {},
   "outputs": [],
   "source": []
  }
 ],
 "metadata": {
  "kernelspec": {
   "display_name": "Python 3",
   "language": "python",
   "name": "python3"
  },
  "language_info": {
   "codemirror_mode": {
    "name": "ipython",
    "version": 3
   },
   "file_extension": ".py",
   "mimetype": "text/x-python",
   "name": "python",
   "nbconvert_exporter": "python",
   "pygments_lexer": "ipython3",
   "version": "3.6.5"
  }
 },
 "nbformat": 4,
 "nbformat_minor": 2
}
